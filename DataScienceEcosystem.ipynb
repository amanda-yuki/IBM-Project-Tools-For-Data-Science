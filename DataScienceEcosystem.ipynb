{
 "cells": [
  {
   "cell_type": "markdown",
   "id": "dc7740f4-2f3d-4dea-a40f-c6e9b25bf9ca",
   "metadata": {},
   "source": [
    "# Data Science Tools and Ecosystem"
   ]
  },
  {
   "cell_type": "markdown",
   "id": "8775f3d6-19ab-45ae-8a00-0006c8dd9972",
   "metadata": {},
   "source": [
    "#### In this notebook, Data Science Tools and Ecosystem are summarized"
   ]
  },
  {
   "cell_type": "markdown",
   "id": "113abe77-93e7-47b2-952f-d2d0cd997f77",
   "metadata": {},
   "source": [
    "**Objectives**\n",
    "\n",
    "- list of popular languages that Data Scientists use\n",
    "- list of libraries commonly used by Data Scientists\n",
    "- Data Science popular tools\n",
    "- simple operations and commands in Python"
   ]
  },
  {
   "cell_type": "markdown",
   "id": "d9cc25b4-5564-41b1-a941-be23f66b1705",
   "metadata": {},
   "source": [
    "##### some of the popular languages that Data Scientists use are:\n"
   ]
  },
  {
   "cell_type": "markdown",
   "id": "a504f8cd-f79f-40a4-b583-b4224e97a6cf",
   "metadata": {},
   "source": [
    "1. Jupyter Notebook\n",
    "2. R\n",
    "3. Python\n"
   ]
  },
  {
   "cell_type": "markdown",
   "id": "6a76c4a7-e534-4bf7-a2ed-4cf915256b17",
   "metadata": {},
   "source": [
    "##### some of the commonly used libraries used by Data Scientists include:"
   ]
  },
  {
   "cell_type": "markdown",
   "id": "b22f7870-7772-491f-aaed-a00e155edbed",
   "metadata": {},
   "source": [
    "1. Pandas\n",
    "2. Seaborn\n",
    "3. TensorFlow"
   ]
  },
  {
   "cell_type": "markdown",
   "id": "ed177585-6729-4d10-a1dc-eaf1dc93b7d1",
   "metadata": {},
   "source": [
    "| Data Science Tools |\n",
    "| ------------------ |\n",
    "| VS Code            |\n",
    "| TensorFlow         |\n",
    "| Apache Zeppelin    |\n"
   ]
  },
  {
   "cell_type": "markdown",
   "id": "967dd4f1-5f29-4c8a-92ab-cb5061b173e5",
   "metadata": {},
   "source": [
    "### Below are a few exemples of evaluating arithmetic expressions in Python"
   ]
  },
  {
   "cell_type": "code",
   "execution_count": 16,
   "id": "a3aa899a-0946-4cf8-b0fa-4a83ec6839a3",
   "metadata": {},
   "outputs": [
    {
     "data": {
      "text/plain": [
       "17"
      ]
     },
     "execution_count": 16,
     "metadata": {},
     "output_type": "execute_result"
    }
   ],
   "source": [
    "# this is a simple arithmetic expression to multiply then and integers\n",
    "\n",
    "(3*4)+5"
   ]
  },
  {
   "cell_type": "code",
   "execution_count": 26,
   "id": "de8b25ca-b407-4afa-a28a-e4db8f2bd9c6",
   "metadata": {},
   "outputs": [
    {
     "name": "stdout",
     "output_type": "stream",
     "text": [
      "would you like to try?\n"
     ]
    },
    {
     "name": "stdin",
     "output_type": "stream",
     "text": [
      "1. Yes \n",
      "2. No 1\n",
      "how many minutes? 57\n"
     ]
    },
    {
     "name": "stdout",
     "output_type": "stream",
     "text": [
      "0.95\n"
     ]
    }
   ],
   "source": [
    "# this will convert 200 minutes to hours by dividing by 60\n",
    "\n",
    "(200/60)\n",
    "\n",
    "#this will ask if you want to try out and display the value(minutes) in  hours\n",
    "print (\"would you like to try?\")\n",
    "\n",
    "x = input(\"1. Yes \\n2. No\")\n",
    "\n",
    "if (x == \"1\"):\n",
    "    value = float(input(\"how many minutes?\"))\n",
    "    print (value / 60)"
   ]
  },
  {
   "cell_type": "markdown",
   "id": "1088ea06-eced-4543-901c-e604787c4752",
   "metadata": {},
   "source": [
    "## Author\n",
    "Amanda Yuki da Silva Sasaki"
   ]
  },
  {
   "cell_type": "code",
   "execution_count": null,
   "id": "3f3980f3-7d5c-4b6d-9be5-a509ee6eeb52",
   "metadata": {},
   "outputs": [],
   "source": []
  }
 ],
 "metadata": {
  "kernelspec": {
   "display_name": "Python 3 (ipykernel)",
   "language": "python",
   "name": "python3"
  },
  "language_info": {
   "codemirror_mode": {
    "name": "ipython",
    "version": 3
   },
   "file_extension": ".py",
   "mimetype": "text/x-python",
   "name": "python",
   "nbconvert_exporter": "python",
   "pygments_lexer": "ipython3",
   "version": "3.13.2"
  }
 },
 "nbformat": 4,
 "nbformat_minor": 5
}
